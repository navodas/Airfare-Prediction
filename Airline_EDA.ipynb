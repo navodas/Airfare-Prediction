{
 "cells": [
  {
   "cell_type": "markdown",
   "metadata": {},
   "source": [
    "## Airfare prediction - dometic Indian flight prices in 2019"
   ]
  },
  {
   "cell_type": "markdown",
   "metadata": {},
   "source": [
    "#### In this notebook we carry EDA to answer some interesting questions about dometic Indian flight prices.\n",
    "###### This work is part of the Udemy course \"Data Science Real World Projects in Python\". All the datasets used for the projects are from the course."
   ]
  },
  {
   "cell_type": "markdown",
   "metadata": {},
   "source": [
    "#### Findings : \n",
    "\n",
    "- The highest number of flight departures are reported in the morning between 05:00-12:00 whereas the least is reported at night from 21:00-05:00.\n",
    "- Jet Airways has the highest percentahe of flight operaions which add up to 36%.\n",
    "- There are five source-destination pairs exists in the dataset. Out of that the highest percentage of flights are operated between Delhi and Cochin (42%). \n",
    "- Air India, Vistara, SpiceJet, and IndiGo airines fly to all the destinations mentioned in this dataset. \n",
    "- New Delhi to Cochin has the highest mean flight duration which is 817.85 minutes. Where as, Chennai to Kolkata flight only takes about 139.6 minutes on average with no lay overs.\n",
    "- Spice jet offers the cheapest prices between New Delhi and Cochin which is INR  5916.35 on average.\n",
    "- BOM airport has the highest number of layover flights considering all the destinations. \n"
   ]
  },
  {
   "cell_type": "code",
   "execution_count": 270,
   "metadata": {},
   "outputs": [],
   "source": [
    "import pandas as pd\n",
    "import numpy as np\n",
    "import matplotlib.pyplot as plt\n",
    "import seaborn as sns"
   ]
  },
  {
   "cell_type": "code",
   "execution_count": 271,
   "metadata": {},
   "outputs": [],
   "source": [
    "import plotly\n",
    "import cufflinks as cf\n",
    "from cufflinks.offline import go_offline\n",
    "from plotly.offline import download_plotlyjs, init_notebook_mode, plot, iplot\n",
    "#!pip3 install cufflinks"
   ]
  },
  {
   "cell_type": "code",
   "execution_count": 272,
   "metadata": {},
   "outputs": [],
   "source": [
    "train_data = pd.read_csv(r\"Cleaned_Train.csv\")"
   ]
  },
  {
   "cell_type": "code",
   "execution_count": 273,
   "metadata": {},
   "outputs": [
    {
     "data": {
      "text/html": [
       "<div>\n",
       "<style scoped>\n",
       "    .dataframe tbody tr th:only-of-type {\n",
       "        vertical-align: middle;\n",
       "    }\n",
       "\n",
       "    .dataframe tbody tr th {\n",
       "        vertical-align: top;\n",
       "    }\n",
       "\n",
       "    .dataframe thead th {\n",
       "        text-align: right;\n",
       "    }\n",
       "</style>\n",
       "<table border=\"1\" class=\"dataframe\">\n",
       "  <thead>\n",
       "    <tr style=\"text-align: right;\">\n",
       "      <th></th>\n",
       "      <th>Airline</th>\n",
       "      <th>Source</th>\n",
       "      <th>Destination</th>\n",
       "      <th>Route</th>\n",
       "      <th>Total_Stops</th>\n",
       "      <th>Additional_Info</th>\n",
       "      <th>Price</th>\n",
       "      <th>Journey_Day</th>\n",
       "      <th>Journey_Month</th>\n",
       "      <th>Dep_Time_hour</th>\n",
       "      <th>Dep_Time_minutes</th>\n",
       "      <th>Arrival_Time_hour</th>\n",
       "      <th>Arrival_Time_minutes</th>\n",
       "      <th>Duration_in_mins</th>\n",
       "    </tr>\n",
       "  </thead>\n",
       "  <tbody>\n",
       "    <tr>\n",
       "      <th>0</th>\n",
       "      <td>IndiGo</td>\n",
       "      <td>Banglore</td>\n",
       "      <td>New Delhi</td>\n",
       "      <td>BLR → DEL</td>\n",
       "      <td>0</td>\n",
       "      <td>No info</td>\n",
       "      <td>3897</td>\n",
       "      <td>24</td>\n",
       "      <td>3</td>\n",
       "      <td>22</td>\n",
       "      <td>20</td>\n",
       "      <td>1</td>\n",
       "      <td>10</td>\n",
       "      <td>170</td>\n",
       "    </tr>\n",
       "    <tr>\n",
       "      <th>1</th>\n",
       "      <td>Air India</td>\n",
       "      <td>Kolkata</td>\n",
       "      <td>Banglore</td>\n",
       "      <td>CCU → IXR → BBI → BLR</td>\n",
       "      <td>2</td>\n",
       "      <td>No info</td>\n",
       "      <td>7662</td>\n",
       "      <td>5</td>\n",
       "      <td>1</td>\n",
       "      <td>5</td>\n",
       "      <td>50</td>\n",
       "      <td>13</td>\n",
       "      <td>15</td>\n",
       "      <td>445</td>\n",
       "    </tr>\n",
       "    <tr>\n",
       "      <th>2</th>\n",
       "      <td>Jet Airways</td>\n",
       "      <td>New Delhi</td>\n",
       "      <td>Cochin</td>\n",
       "      <td>DEL → LKO → BOM → COK</td>\n",
       "      <td>2</td>\n",
       "      <td>No info</td>\n",
       "      <td>13882</td>\n",
       "      <td>6</td>\n",
       "      <td>9</td>\n",
       "      <td>9</td>\n",
       "      <td>25</td>\n",
       "      <td>4</td>\n",
       "      <td>25</td>\n",
       "      <td>1140</td>\n",
       "    </tr>\n",
       "    <tr>\n",
       "      <th>3</th>\n",
       "      <td>IndiGo</td>\n",
       "      <td>Kolkata</td>\n",
       "      <td>Banglore</td>\n",
       "      <td>CCU → NAG → BLR</td>\n",
       "      <td>1</td>\n",
       "      <td>No info</td>\n",
       "      <td>6218</td>\n",
       "      <td>5</td>\n",
       "      <td>12</td>\n",
       "      <td>18</td>\n",
       "      <td>5</td>\n",
       "      <td>23</td>\n",
       "      <td>30</td>\n",
       "      <td>325</td>\n",
       "    </tr>\n",
       "    <tr>\n",
       "      <th>4</th>\n",
       "      <td>IndiGo</td>\n",
       "      <td>Banglore</td>\n",
       "      <td>New Delhi</td>\n",
       "      <td>BLR → NAG → DEL</td>\n",
       "      <td>1</td>\n",
       "      <td>No info</td>\n",
       "      <td>13302</td>\n",
       "      <td>3</td>\n",
       "      <td>1</td>\n",
       "      <td>16</td>\n",
       "      <td>50</td>\n",
       "      <td>21</td>\n",
       "      <td>35</td>\n",
       "      <td>285</td>\n",
       "    </tr>\n",
       "  </tbody>\n",
       "</table>\n",
       "</div>"
      ],
      "text/plain": [
       "       Airline     Source Destination                  Route  Total_Stops  \\\n",
       "0       IndiGo   Banglore   New Delhi              BLR → DEL            0   \n",
       "1    Air India    Kolkata    Banglore  CCU → IXR → BBI → BLR            2   \n",
       "2  Jet Airways  New Delhi      Cochin  DEL → LKO → BOM → COK            2   \n",
       "3       IndiGo    Kolkata    Banglore        CCU → NAG → BLR            1   \n",
       "4       IndiGo   Banglore   New Delhi        BLR → NAG → DEL            1   \n",
       "\n",
       "  Additional_Info  Price  Journey_Day  Journey_Month  Dep_Time_hour  \\\n",
       "0         No info   3897           24              3             22   \n",
       "1         No info   7662            5              1              5   \n",
       "2         No info  13882            6              9              9   \n",
       "3         No info   6218            5             12             18   \n",
       "4         No info  13302            3              1             16   \n",
       "\n",
       "   Dep_Time_minutes  Arrival_Time_hour  Arrival_Time_minutes  Duration_in_mins  \n",
       "0                20                  1                    10               170  \n",
       "1                50                 13                    15               445  \n",
       "2                25                  4                    25              1140  \n",
       "3                 5                 23                    30               325  \n",
       "4                50                 21                    35               285  "
      ]
     },
     "execution_count": 273,
     "metadata": {},
     "output_type": "execute_result"
    }
   ],
   "source": [
    "train_data.head()"
   ]
  },
  {
   "cell_type": "code",
   "execution_count": 274,
   "metadata": {},
   "outputs": [],
   "source": [
    "#Q1 : Vizualize the number of flights departed at the below times (use Dep_Time_hour).\n",
    "     # morning (05:00-12:00), afternoon (12:00-17:00), evening(17:00-21:00), and night(21:00-05:00).\n",
    "\n",
    "def flight_count(d_time):\n",
    "    \n",
    "    if d_time > 5 and d_time <= 12 :\n",
    "        return 'Morning'\n",
    "    elif d_time > 12 and d_time <= 17:\n",
    "        return 'Afternoon'\n",
    "    elif d_time > 17 and d_time <= 21:\n",
    "        return 'Evening'\n",
    "    else: \n",
    "        return 'Night'\n"
   ]
  },
  {
   "cell_type": "code",
   "execution_count": 275,
   "metadata": {},
   "outputs": [
    {
     "data": {
      "text/plain": [
       "Morning      4460\n",
       "Afternoon    2426\n",
       "Evening      2154\n",
       "Night        1642\n",
       "Name: Dep_Time_hour, dtype: int64"
      ]
     },
     "execution_count": 275,
     "metadata": {},
     "output_type": "execute_result"
    }
   ],
   "source": [
    "#Flight count \n",
    "train_data['Dep_Time_hour'].apply(flight_count).value_counts()"
   ]
  },
  {
   "cell_type": "markdown",
   "metadata": {},
   "source": [
    "The highest number of flight departures are reported in the morning whereas the least is at night."
   ]
  },
  {
   "cell_type": "code",
   "execution_count": 276,
   "metadata": {},
   "outputs": [
    {
     "data": {
      "text/plain": [
       "<AxesSubplot:>"
      ]
     },
     "execution_count": 276,
     "metadata": {},
     "output_type": "execute_result"
    },
    {
     "data": {
      "image/png": "[encoded data removed]",
      "text/plain": [
       "<Figure size 432x288 with 1 Axes>"
      ]
     },
     "metadata": {
      "needs_background": "light"
     },
     "output_type": "display_data"
    }
   ],
   "source": [
    "#Flight vizualization\n",
    "train_data['Dep_Time_hour'].apply(flight_count).value_counts().plot(kind='bar')"
   ]
  },
  {
   "cell_type": "code",
   "execution_count": 277,
   "metadata": {},
   "outputs": [
    {
     "data": {
      "text/plain": [
       "Jet Airways                          3849\n",
       "IndiGo                               2053\n",
       "Air India                            1751\n",
       "Multiple carriers                    1196\n",
       "SpiceJet                              818\n",
       "Vistara                               479\n",
       "Air Asia                              319\n",
       "GoAir                                 194\n",
       "Multiple carriers Premium economy      13\n",
       "Jet Airways Business                    6\n",
       "Vistara Premium economy                 3\n",
       "Trujet                                  1\n",
       "Name: Airline, dtype: int64"
      ]
     },
     "execution_count": 277,
     "metadata": {},
     "output_type": "execute_result"
    }
   ],
   "source": [
    "#Q2 : How many flights are operated by each of the ailines?\n",
    "train_data['Airline'].value_counts()"
   ]
  },
  {
   "cell_type": "code",
   "execution_count": 329,
   "metadata": {},
   "outputs": [
    {
     "data": {
      "text/plain": [
       "Jet Airways                          0.360326\n",
       "IndiGo                               0.192192\n",
       "Air India                            0.163921\n",
       "Multiple carriers                    0.111964\n",
       "SpiceJet                             0.076577\n",
       "Vistara                              0.044842\n",
       "Air Asia                             0.029863\n",
       "GoAir                                0.018161\n",
       "Multiple carriers Premium economy    0.001217\n",
       "Jet Airways Business                 0.000562\n",
       "Vistara Premium economy              0.000281\n",
       "Trujet                               0.000094\n",
       "Name: Airline, dtype: float64"
      ]
     },
     "execution_count": 329,
     "metadata": {},
     "output_type": "execute_result"
    }
   ],
   "source": [
    "train_data['Airline'].value_counts(normalize=True)"
   ]
  },
  {
   "cell_type": "code",
   "execution_count": 278,
   "metadata": {},
   "outputs": [
    {
     "data": {
      "text/plain": [
       "<AxesSubplot:ylabel='Airline'>"
      ]
     },
     "execution_count": 278,
     "metadata": {},
     "output_type": "execute_result"
    },
    {
     "data": {
      "image/png": "[encoded data removed]",
      "text/plain": [
       "<Figure size 432x288 with 1 Axes>"
      ]
     },
     "metadata": {},
     "output_type": "display_data"
    }
   ],
   "source": [
    "train_data['Airline'].value_counts().plot(kind='pie')"
   ]
  },
  {
   "cell_type": "markdown",
   "metadata": {},
   "source": [
    "Jet airways carier operates the highest number of flights followed by Indigo and Air india."
   ]
  },
  {
   "cell_type": "code",
   "execution_count": 313,
   "metadata": {},
   "outputs": [
    {
     "data": {
      "text/html": [
       "<div>\n",
       "<style scoped>\n",
       "    .dataframe tbody tr th:only-of-type {\n",
       "        vertical-align: middle;\n",
       "    }\n",
       "\n",
       "    .dataframe tbody tr th {\n",
       "        vertical-align: top;\n",
       "    }\n",
       "\n",
       "    .dataframe thead th {\n",
       "        text-align: right;\n",
       "    }\n",
       "</style>\n",
       "<table border=\"1\" class=\"dataframe\">\n",
       "  <thead>\n",
       "    <tr style=\"text-align: right;\">\n",
       "      <th></th>\n",
       "      <th>Source-Destination</th>\n",
       "    </tr>\n",
       "  </thead>\n",
       "  <tbody>\n",
       "    <tr>\n",
       "      <th>0</th>\n",
       "      <td>Banglore-New Delhi</td>\n",
       "    </tr>\n",
       "    <tr>\n",
       "      <th>1</th>\n",
       "      <td>Kolkata-Banglore</td>\n",
       "    </tr>\n",
       "    <tr>\n",
       "      <th>2</th>\n",
       "      <td>New Delhi-Cochin</td>\n",
       "    </tr>\n",
       "    <tr>\n",
       "      <th>3</th>\n",
       "      <td>Kolkata-Banglore</td>\n",
       "    </tr>\n",
       "    <tr>\n",
       "      <th>4</th>\n",
       "      <td>Banglore-New Delhi</td>\n",
       "    </tr>\n",
       "  </tbody>\n",
       "</table>\n",
       "</div>"
      ],
      "text/plain": [
       "   Source-Destination\n",
       "0  Banglore-New Delhi\n",
       "1    Kolkata-Banglore\n",
       "2    New Delhi-Cochin\n",
       "3    Kolkata-Banglore\n",
       "4  Banglore-New Delhi"
      ]
     },
     "execution_count": 313,
     "metadata": {},
     "output_type": "execute_result"
    }
   ],
   "source": [
    "#Q3 : How many unique source-destination pairs exists and how many flights are flown between them?\n",
    "\n",
    "sd_df = pd.DataFrame(train_data[['Source','Destination']].apply(\"-\".join, axis=1), columns=['Source-Destination'])\n",
    "sd_df.head()"
   ]
  },
  {
   "cell_type": "code",
   "execution_count": 280,
   "metadata": {},
   "outputs": [
    {
     "data": {
      "text/plain": [
       "array(['Banglore-New Delhi', 'Kolkata-Banglore', 'New Delhi-Cochin',\n",
       "       'Chennai-Kolkata', 'Mumbai-Hyderabad'], dtype=object)"
      ]
     },
     "execution_count": 280,
     "metadata": {},
     "output_type": "execute_result"
    }
   ],
   "source": [
    "# How many unique source-destination pairs exists?\n",
    "sd_df['Source-Destination'].unique()"
   ]
  },
  {
   "cell_type": "code",
   "execution_count": 314,
   "metadata": {},
   "outputs": [
    {
     "data": {
      "text/plain": [
       "<AxesSubplot:>"
      ]
     },
     "execution_count": 314,
     "metadata": {},
     "output_type": "execute_result"
    },
    {
     "data": {
      "image/png": "[encoded data removed]",
      "text/plain": [
       "<Figure size 432x288 with 1 Axes>"
      ]
     },
     "metadata": {
      "needs_background": "light"
     },
     "output_type": "display_data"
    }
   ],
   "source": [
    "#How many flights are flown between the destinations?\n",
    "sd_df['Source-Destination'].value_counts().plot(kind='bar')"
   ]
  },
  {
   "cell_type": "markdown",
   "metadata": {},
   "source": [
    "There are five source-destination pairs exists. Out of them the  highest number of flights are operated between Delhi and Cochin. "
   ]
  },
  {
   "cell_type": "code",
   "execution_count": 282,
   "metadata": {},
   "outputs": [],
   "source": [
    "#Q4 : For each airline compute the number of flight destinations they fly to in discending order.\n",
    "\n",
    "train_data['Source-Destination'] = train_data[['Source','Destination']].apply(\"-\".join, axis=1)\n"
   ]
  },
  {
   "cell_type": "code",
   "execution_count": 283,
   "metadata": {},
   "outputs": [
    {
     "data": {
      "text/plain": [
       "Airline\n",
       "Air India                            5\n",
       "IndiGo                               5\n",
       "SpiceJet                             5\n",
       "Vistara                              5\n",
       "Jet Airways                          4\n",
       "Air Asia                             3\n",
       "GoAir                                3\n",
       "Jet Airways Business                 2\n",
       "Vistara Premium economy              2\n",
       "Multiple carriers                    1\n",
       "Multiple carriers Premium economy    1\n",
       "Trujet                               1\n",
       "Name: Source-Destination, dtype: int64"
      ]
     },
     "execution_count": 283,
     "metadata": {},
     "output_type": "execute_result"
    }
   ],
   "source": [
    "train_data.groupby(['Airline'])['Source-Destination'].nunique().sort_values(ascending=False)"
   ]
  },
  {
   "cell_type": "markdown",
   "metadata": {},
   "source": [
    "Air India, Vistara, SpiceJet, and IndiGo airines fly to all the destinations mentioned in this dataset. "
   ]
  },
  {
   "cell_type": "code",
   "execution_count": 284,
   "metadata": {},
   "outputs": [
    {
     "name": "stderr",
     "output_type": "stream",
     "text": [
      "/var/folders/4b/r_p92ss978z32lh_qlxs17lr0000gn/T/ipykernel_20850/1121397470.py:3: FutureWarning:\n",
      "\n",
      "Indexing with multiple keys (implicitly converted to a tuple of keys) will be deprecated, use a list instead.\n",
      "\n"
     ]
    }
   ],
   "source": [
    "#Q5 For each source-destination pair what is the average duration and the number of stops (rounded to the next int).\n",
    "\n",
    "df = train_data.groupby(['Source-Destination'])['Duration_in_mins','Total_Stops'].mean().reset_index()\n"
   ]
  },
  {
   "cell_type": "code",
   "execution_count": 285,
   "metadata": {},
   "outputs": [],
   "source": [
    "df['Total_Stops'] = np.ceil(df['Total_Stops'])"
   ]
  },
  {
   "cell_type": "code",
   "execution_count": 286,
   "metadata": {},
   "outputs": [
    {
     "data": {
      "text/html": [
       "<div>\n",
       "<style scoped>\n",
       "    .dataframe tbody tr th:only-of-type {\n",
       "        vertical-align: middle;\n",
       "    }\n",
       "\n",
       "    .dataframe tbody tr th {\n",
       "        vertical-align: top;\n",
       "    }\n",
       "\n",
       "    .dataframe thead th {\n",
       "        text-align: right;\n",
       "    }\n",
       "</style>\n",
       "<table border=\"1\" class=\"dataframe\">\n",
       "  <thead>\n",
       "    <tr style=\"text-align: right;\">\n",
       "      <th></th>\n",
       "      <th>Source-Destination</th>\n",
       "      <th>Duration_in_mins</th>\n",
       "      <th>Total_Stops</th>\n",
       "    </tr>\n",
       "  </thead>\n",
       "  <tbody>\n",
       "    <tr>\n",
       "      <th>0</th>\n",
       "      <td>Banglore-New Delhi</td>\n",
       "      <td>376.329085</td>\n",
       "      <td>1.0</td>\n",
       "    </tr>\n",
       "    <tr>\n",
       "      <th>1</th>\n",
       "      <td>Chennai-Kolkata</td>\n",
       "      <td>139.619423</td>\n",
       "      <td>0.0</td>\n",
       "    </tr>\n",
       "    <tr>\n",
       "      <th>2</th>\n",
       "      <td>Kolkata-Banglore</td>\n",
       "      <td>747.248346</td>\n",
       "      <td>1.0</td>\n",
       "    </tr>\n",
       "    <tr>\n",
       "      <th>3</th>\n",
       "      <td>Mumbai-Hyderabad</td>\n",
       "      <td>191.714491</td>\n",
       "      <td>1.0</td>\n",
       "    </tr>\n",
       "    <tr>\n",
       "      <th>4</th>\n",
       "      <td>New Delhi-Cochin</td>\n",
       "      <td>817.852734</td>\n",
       "      <td>2.0</td>\n",
       "    </tr>\n",
       "  </tbody>\n",
       "</table>\n",
       "</div>"
      ],
      "text/plain": [
       "   Source-Destination  Duration_in_mins  Total_Stops\n",
       "0  Banglore-New Delhi        376.329085          1.0\n",
       "1     Chennai-Kolkata        139.619423          0.0\n",
       "2    Kolkata-Banglore        747.248346          1.0\n",
       "3    Mumbai-Hyderabad        191.714491          1.0\n",
       "4    New Delhi-Cochin        817.852734          2.0"
      ]
     },
     "execution_count": 286,
     "metadata": {},
     "output_type": "execute_result"
    }
   ],
   "source": [
    "df"
   ]
  },
  {
   "cell_type": "markdown",
   "metadata": {},
   "source": [
    "We can notice that Delhi-Cochin\tand Kolkata-Banglore has the highest mean number of stops. Also this route has the highest mean duration which is 817.85 minutes. On the other hand Chennai-Kolkata\troute only takes 139.6 minutes on average where the average number of  stops is 0. This indicates that higher the flight duration higher the chance of having more lay overs."
   ]
  },
  {
   "cell_type": "code",
   "execution_count": 302,
   "metadata": {},
   "outputs": [
    {
     "data": {
      "text/plain": [
       "Airline                            Source-Destination\n",
       "Jet Airways                        New Delhi-Cochin      1586\n",
       "Multiple carriers                  New Delhi-Cochin      1196\n",
       "Air India                          New Delhi-Cochin       746\n",
       "IndiGo                             New Delhi-Cochin       705\n",
       "SpiceJet                           New Delhi-Cochin        87\n",
       "Air Asia                           New Delhi-Cochin        80\n",
       "GoAir                              New Delhi-Cochin        76\n",
       "Vistara                            New Delhi-Cochin        45\n",
       "Multiple carriers Premium economy  New Delhi-Cochin        13\n",
       "Jet Airways Business               New Delhi-Cochin         2\n",
       "Name: Source, dtype: int64"
      ]
     },
     "execution_count": 302,
     "metadata": {},
     "output_type": "execute_result"
    }
   ],
   "source": [
    "# Q6 : Which airline provides the most number of flights between Delhi and Cochin?\n",
    "tmp_df = train_data[train_data['Source-Destination']=='New Delhi-Cochin']\n",
    "tmp_df.groupby(['Airline','Source-Destination']).count().iloc[:,0].sort_values(ascending= False)\n"
   ]
  },
  {
   "cell_type": "markdown",
   "metadata": {},
   "source": [
    "Jet Airways provides the highest number of flights between Delhi and Cochin followed by Multiple carriers. "
   ]
  },
  {
   "cell_type": "code",
   "execution_count": 288,
   "metadata": {},
   "outputs": [
    {
     "data": {
      "text/html": [
       "<div>\n",
       "<style scoped>\n",
       "    .dataframe tbody tr th:only-of-type {\n",
       "        vertical-align: middle;\n",
       "    }\n",
       "\n",
       "    .dataframe tbody tr th {\n",
       "        vertical-align: top;\n",
       "    }\n",
       "\n",
       "    .dataframe thead th {\n",
       "        text-align: right;\n",
       "    }\n",
       "</style>\n",
       "<table border=\"1\" class=\"dataframe\">\n",
       "  <thead>\n",
       "    <tr style=\"text-align: right;\">\n",
       "      <th></th>\n",
       "      <th>Airline</th>\n",
       "      <th>Source</th>\n",
       "      <th>Destination</th>\n",
       "      <th>Route</th>\n",
       "      <th>Total_Stops</th>\n",
       "      <th>Additional_Info</th>\n",
       "      <th>Price</th>\n",
       "      <th>Journey_Day</th>\n",
       "      <th>Journey_Month</th>\n",
       "      <th>Dep_Time_hour</th>\n",
       "      <th>Dep_Time_minutes</th>\n",
       "      <th>Arrival_Time_hour</th>\n",
       "      <th>Arrival_Time_minutes</th>\n",
       "      <th>Duration_in_mins</th>\n",
       "      <th>Source-Destination</th>\n",
       "    </tr>\n",
       "  </thead>\n",
       "  <tbody>\n",
       "    <tr>\n",
       "      <th>2</th>\n",
       "      <td>Jet Airways</td>\n",
       "      <td>New Delhi</td>\n",
       "      <td>Cochin</td>\n",
       "      <td>DEL → LKO → BOM → COK</td>\n",
       "      <td>2</td>\n",
       "      <td>No info</td>\n",
       "      <td>13882</td>\n",
       "      <td>6</td>\n",
       "      <td>9</td>\n",
       "      <td>9</td>\n",
       "      <td>25</td>\n",
       "      <td>4</td>\n",
       "      <td>25</td>\n",
       "      <td>1140</td>\n",
       "      <td>New Delhi-Cochin</td>\n",
       "    </tr>\n",
       "    <tr>\n",
       "      <th>9</th>\n",
       "      <td>Multiple carriers</td>\n",
       "      <td>New Delhi</td>\n",
       "      <td>Cochin</td>\n",
       "      <td>DEL → BOM → COK</td>\n",
       "      <td>1</td>\n",
       "      <td>No info</td>\n",
       "      <td>8625</td>\n",
       "      <td>27</td>\n",
       "      <td>5</td>\n",
       "      <td>11</td>\n",
       "      <td>25</td>\n",
       "      <td>19</td>\n",
       "      <td>15</td>\n",
       "      <td>470</td>\n",
       "      <td>New Delhi-Cochin</td>\n",
       "    </tr>\n",
       "    <tr>\n",
       "      <th>17</th>\n",
       "      <td>Jet Airways</td>\n",
       "      <td>New Delhi</td>\n",
       "      <td>Cochin</td>\n",
       "      <td>DEL → BOM → COK</td>\n",
       "      <td>1</td>\n",
       "      <td>In-flight meal not included</td>\n",
       "      <td>10262</td>\n",
       "      <td>6</td>\n",
       "      <td>12</td>\n",
       "      <td>14</td>\n",
       "      <td>0</td>\n",
       "      <td>12</td>\n",
       "      <td>35</td>\n",
       "      <td>1355</td>\n",
       "      <td>New Delhi-Cochin</td>\n",
       "    </tr>\n",
       "    <tr>\n",
       "      <th>19</th>\n",
       "      <td>Jet Airways</td>\n",
       "      <td>New Delhi</td>\n",
       "      <td>Cochin</td>\n",
       "      <td>DEL → BOM → COK</td>\n",
       "      <td>1</td>\n",
       "      <td>In-flight meal not included</td>\n",
       "      <td>12898</td>\n",
       "      <td>27</td>\n",
       "      <td>5</td>\n",
       "      <td>16</td>\n",
       "      <td>0</td>\n",
       "      <td>12</td>\n",
       "      <td>35</td>\n",
       "      <td>1235</td>\n",
       "      <td>New Delhi-Cochin</td>\n",
       "    </tr>\n",
       "    <tr>\n",
       "      <th>25</th>\n",
       "      <td>Jet Airways</td>\n",
       "      <td>New Delhi</td>\n",
       "      <td>Cochin</td>\n",
       "      <td>DEL → IDR → BOM → COK</td>\n",
       "      <td>2</td>\n",
       "      <td>No info</td>\n",
       "      <td>13292</td>\n",
       "      <td>6</td>\n",
       "      <td>9</td>\n",
       "      <td>21</td>\n",
       "      <td>25</td>\n",
       "      <td>12</td>\n",
       "      <td>35</td>\n",
       "      <td>910</td>\n",
       "      <td>New Delhi-Cochin</td>\n",
       "    </tr>\n",
       "  </tbody>\n",
       "</table>\n",
       "</div>"
      ],
      "text/plain": [
       "              Airline     Source Destination                  Route  \\\n",
       "2         Jet Airways  New Delhi      Cochin  DEL → LKO → BOM → COK   \n",
       "9   Multiple carriers  New Delhi      Cochin        DEL → BOM → COK   \n",
       "17        Jet Airways  New Delhi      Cochin        DEL → BOM → COK   \n",
       "19        Jet Airways  New Delhi      Cochin        DEL → BOM → COK   \n",
       "25        Jet Airways  New Delhi      Cochin  DEL → IDR → BOM → COK   \n",
       "\n",
       "    Total_Stops              Additional_Info  Price  Journey_Day  \\\n",
       "2             2                      No info  13882            6   \n",
       "9             1                      No info   8625           27   \n",
       "17            1  In-flight meal not included  10262            6   \n",
       "19            1  In-flight meal not included  12898           27   \n",
       "25            2                      No info  13292            6   \n",
       "\n",
       "    Journey_Month  Dep_Time_hour  Dep_Time_minutes  Arrival_Time_hour  \\\n",
       "2               9              9                25                  4   \n",
       "9               5             11                25                 19   \n",
       "17             12             14                 0                 12   \n",
       "19              5             16                 0                 12   \n",
       "25              9             21                25                 12   \n",
       "\n",
       "    Arrival_Time_minutes  Duration_in_mins Source-Destination  \n",
       "2                     25              1140   New Delhi-Cochin  \n",
       "9                     15               470   New Delhi-Cochin  \n",
       "17                    35              1355   New Delhi-Cochin  \n",
       "19                    35              1235   New Delhi-Cochin  \n",
       "25                    35               910   New Delhi-Cochin  "
      ]
     },
     "execution_count": 288,
     "metadata": {},
     "output_type": "execute_result"
    }
   ],
   "source": [
    "# Q6 : Between Jet Airways and Multiple carriers which provides the most efficient flights between Delhi and Cochin based on theier mean duration?\n",
    "\n",
    "#filter data\n",
    "tmp_df = train_data[  (train_data['Source-Destination']=='New Delhi-Cochin') & ( (train_data['Airline'] ==\"Jet Airways\") | (train_data['Airline'] ==\"Multiple carriers\") ) ]\n",
    "tmp_df.head()"
   ]
  },
  {
   "cell_type": "code",
   "execution_count": 289,
   "metadata": {},
   "outputs": [
    {
     "data": {
      "text/html": [
       "<div>\n",
       "<style scoped>\n",
       "    .dataframe tbody tr th:only-of-type {\n",
       "        vertical-align: middle;\n",
       "    }\n",
       "\n",
       "    .dataframe tbody tr th {\n",
       "        vertical-align: top;\n",
       "    }\n",
       "\n",
       "    .dataframe thead tr th {\n",
       "        text-align: left;\n",
       "    }\n",
       "\n",
       "    .dataframe thead tr:last-of-type th {\n",
       "        text-align: right;\n",
       "    }\n",
       "</style>\n",
       "<table border=\"1\" class=\"dataframe\">\n",
       "  <thead>\n",
       "    <tr>\n",
       "      <th></th>\n",
       "      <th>Duration_in_mins</th>\n",
       "      <th>Total_Stops</th>\n",
       "      <th colspan=\"2\" halign=\"left\">Dep_Time_hour</th>\n",
       "    </tr>\n",
       "    <tr>\n",
       "      <th></th>\n",
       "      <th>mean</th>\n",
       "      <th>mean</th>\n",
       "      <th>mean</th>\n",
       "      <th>std</th>\n",
       "    </tr>\n",
       "    <tr>\n",
       "      <th>Airline</th>\n",
       "      <th></th>\n",
       "      <th></th>\n",
       "      <th></th>\n",
       "      <th></th>\n",
       "    </tr>\n",
       "  </thead>\n",
       "  <tbody>\n",
       "    <tr>\n",
       "      <th>Jet Airways</th>\n",
       "      <td>1031.283102</td>\n",
       "      <td>1.405422</td>\n",
       "      <td>13.242749</td>\n",
       "      <td>6.023170</td>\n",
       "    </tr>\n",
       "    <tr>\n",
       "      <th>Multiple carriers</th>\n",
       "      <td>625.769231</td>\n",
       "      <td>1.049331</td>\n",
       "      <td>10.062709</td>\n",
       "      <td>3.802036</td>\n",
       "    </tr>\n",
       "  </tbody>\n",
       "</table>\n",
       "</div>"
      ],
      "text/plain": [
       "                  Duration_in_mins Total_Stops Dep_Time_hour          \n",
       "                              mean        mean          mean       std\n",
       "Airline                                                               \n",
       "Jet Airways            1031.283102    1.405422     13.242749  6.023170\n",
       "Multiple carriers       625.769231    1.049331     10.062709  3.802036"
      ]
     },
     "execution_count": 289,
     "metadata": {},
     "output_type": "execute_result"
    }
   ],
   "source": [
    "#summray stats\n",
    "tmp_df.groupby('Airline').agg({'Duration_in_mins' : ['mean'], 'Total_Stops' : ['mean'], 'Dep_Time_hour' : ['mean','std']})"
   ]
  },
  {
   "cell_type": "markdown",
   "metadata": {},
   "source": [
    "We can see that between the above to carriers Multiple carriers\toffers more efficient flights with less avg stops. Also, we can see while Jet airways on average fly in the afternoon (13:00 ± 6h)  Multiple carriers fly in the morning hours (10:00±4)."
   ]
  },
  {
   "cell_type": "code",
   "execution_count": 304,
   "metadata": {},
   "outputs": [
    {
     "data": {
      "text/plain": [
       "Cochin       4536\n",
       "Banglore     2871\n",
       "New Delhi    2197\n",
       "Hyderabad     697\n",
       "Kolkata       381\n",
       "Name: Destination, dtype: int64"
      ]
     },
     "execution_count": 304,
     "metadata": {},
     "output_type": "execute_result"
    }
   ],
   "source": [
    "# Q7 : Which city has the highest number of destination flights?\n",
    "train_data['Destination'].value_counts()"
   ]
  },
  {
   "cell_type": "markdown",
   "metadata": {},
   "source": [
    "Cochin has the highest number of flights in the given period."
   ]
  },
  {
   "cell_type": "code",
   "execution_count": 306,
   "metadata": {},
   "outputs": [
    {
     "data": {
      "text/plain": [
       "Source-Destination\n",
       "Banglore-New Delhi     8017.464269\n",
       "Chennai-Kolkata        4789.892388\n",
       "Kolkata-Banglore       9158.389411\n",
       "Mumbai-Hyderabad       5059.708752\n",
       "New Delhi-Cochin      10540.113536\n",
       "Name: Price, dtype: float64"
      ]
     },
     "execution_count": 306,
     "metadata": {},
     "output_type": "execute_result"
    }
   ],
   "source": [
    "# Q8 : What are average cost of flying to each of the destinations?\n",
    "\n",
    "train_data.groupby(['Source-Destination'])['Price'].mean()\n"
   ]
  },
  {
   "cell_type": "markdown",
   "metadata": {},
   "source": [
    "We can see that average cost of  flying between New Delhi-Cochin is the highest followed by Kolkata-Banglore."
   ]
  },
  {
   "cell_type": "code",
   "execution_count": 309,
   "metadata": {},
   "outputs": [
    {
     "data": {
      "text/plain": [
       "Source-Destination  Airline                          \n",
       "New Delhi-Cochin    SpiceJet                              5916.356322\n",
       "                    Vistara                               6465.644444\n",
       "                    GoAir                                 6587.157895\n",
       "                    IndiGo                                7203.933333\n",
       "                    Air Asia                              7804.175000\n",
       "                    Air India                            10003.446381\n",
       "                    Multiple carriers                    10902.678094\n",
       "                    Multiple carriers Premium economy    11418.846154\n",
       "                    Jet Airways                          12642.593317\n",
       "                    Jet Airways Business                 49387.500000\n",
       "Name: Price, dtype: float64"
      ]
     },
     "execution_count": 309,
     "metadata": {},
     "output_type": "execute_result"
    }
   ],
   "source": [
    "# Q9 : Which air line offers the cheapest flights between New Delhi-Cochin ?\n",
    "train_data[train_data['Source-Destination']=='New Delhi-Cochin'].groupby(['Source-Destination','Airline'])['Price'].mean().sort_values(ascending=True)"
   ]
  },
  {
   "cell_type": "markdown",
   "metadata": {},
   "source": [
    "Spice jet offers the cheapest prices between New Delhi and Cochin which is INR  5916.356322."
   ]
  },
  {
   "cell_type": "code",
   "execution_count": 290,
   "metadata": {},
   "outputs": [
    {
     "data": {
      "text/html": [
       "<div>\n",
       "<style scoped>\n",
       "    .dataframe tbody tr th:only-of-type {\n",
       "        vertical-align: middle;\n",
       "    }\n",
       "\n",
       "    .dataframe tbody tr th {\n",
       "        vertical-align: top;\n",
       "    }\n",
       "\n",
       "    .dataframe thead th {\n",
       "        text-align: right;\n",
       "    }\n",
       "</style>\n",
       "<table border=\"1\" class=\"dataframe\">\n",
       "  <thead>\n",
       "    <tr style=\"text-align: right;\">\n",
       "      <th></th>\n",
       "      <th>Source-Destination</th>\n",
       "      <th>Route</th>\n",
       "    </tr>\n",
       "  </thead>\n",
       "  <tbody>\n",
       "    <tr>\n",
       "      <th>0</th>\n",
       "      <td>Kolkata-Banglore</td>\n",
       "      <td>CCU → IXR → BBI → BLR</td>\n",
       "    </tr>\n",
       "    <tr>\n",
       "      <th>1</th>\n",
       "      <td>New Delhi-Cochin</td>\n",
       "      <td>DEL → LKO → BOM → COK</td>\n",
       "    </tr>\n",
       "    <tr>\n",
       "      <th>2</th>\n",
       "      <td>Kolkata-Banglore</td>\n",
       "      <td>CCU → NAG → BLR</td>\n",
       "    </tr>\n",
       "    <tr>\n",
       "      <th>3</th>\n",
       "      <td>Banglore-New Delhi</td>\n",
       "      <td>BLR → NAG → DEL</td>\n",
       "    </tr>\n",
       "    <tr>\n",
       "      <th>4</th>\n",
       "      <td>Banglore-New Delhi</td>\n",
       "      <td>BLR → BOM → DEL</td>\n",
       "    </tr>\n",
       "    <tr>\n",
       "      <th>...</th>\n",
       "      <td>...</td>\n",
       "      <td>...</td>\n",
       "    </tr>\n",
       "    <tr>\n",
       "      <th>7186</th>\n",
       "      <td>New Delhi-Cochin</td>\n",
       "      <td>DEL → AMD → BOM → COK</td>\n",
       "    </tr>\n",
       "    <tr>\n",
       "      <th>7187</th>\n",
       "      <td>New Delhi-Cochin</td>\n",
       "      <td>DEL → AMD → BOM → COK</td>\n",
       "    </tr>\n",
       "    <tr>\n",
       "      <th>7188</th>\n",
       "      <td>Banglore-New Delhi</td>\n",
       "      <td>BLR → BOM → DEL</td>\n",
       "    </tr>\n",
       "    <tr>\n",
       "      <th>7189</th>\n",
       "      <td>New Delhi-Cochin</td>\n",
       "      <td>DEL → BOM → COK</td>\n",
       "    </tr>\n",
       "    <tr>\n",
       "      <th>7190</th>\n",
       "      <td>New Delhi-Cochin</td>\n",
       "      <td>DEL → GOI → BOM → COK</td>\n",
       "    </tr>\n",
       "  </tbody>\n",
       "</table>\n",
       "<p>7191 rows × 2 columns</p>\n",
       "</div>"
      ],
      "text/plain": [
       "      Source-Destination                  Route\n",
       "0       Kolkata-Banglore  CCU → IXR → BBI → BLR\n",
       "1       New Delhi-Cochin  DEL → LKO → BOM → COK\n",
       "2       Kolkata-Banglore        CCU → NAG → BLR\n",
       "3     Banglore-New Delhi        BLR → NAG → DEL\n",
       "4     Banglore-New Delhi        BLR → BOM → DEL\n",
       "...                  ...                    ...\n",
       "7186    New Delhi-Cochin  DEL → AMD → BOM → COK\n",
       "7187    New Delhi-Cochin  DEL → AMD → BOM → COK\n",
       "7188  Banglore-New Delhi        BLR → BOM → DEL\n",
       "7189    New Delhi-Cochin        DEL → BOM → COK\n",
       "7190    New Delhi-Cochin  DEL → GOI → BOM → COK\n",
       "\n",
       "[7191 rows x 2 columns]"
      ]
     },
     "execution_count": 290,
     "metadata": {},
     "output_type": "execute_result"
    }
   ],
   "source": [
    "# Q10 : What is the most common layover/ stop airport for each destination. \n",
    "\n",
    "#subset of columns where atleast one layover is present.\n",
    "df_tmp = train_data[train_data['Total_Stops']>=1][['Source-Destination','Route']]\n",
    "df_tmp.reset_index(drop=True)"
   ]
  },
  {
   "cell_type": "code",
   "execution_count": 291,
   "metadata": {},
   "outputs": [
    {
     "data": {
      "text/html": [
       "<div>\n",
       "<style scoped>\n",
       "    .dataframe tbody tr th:only-of-type {\n",
       "        vertical-align: middle;\n",
       "    }\n",
       "\n",
       "    .dataframe tbody tr th {\n",
       "        vertical-align: top;\n",
       "    }\n",
       "\n",
       "    .dataframe thead th {\n",
       "        text-align: right;\n",
       "    }\n",
       "</style>\n",
       "<table border=\"1\" class=\"dataframe\">\n",
       "  <thead>\n",
       "    <tr style=\"text-align: right;\">\n",
       "      <th></th>\n",
       "      <th>Source-Destination</th>\n",
       "      <th>Route</th>\n",
       "      <th>Layover list</th>\n",
       "    </tr>\n",
       "  </thead>\n",
       "  <tbody>\n",
       "    <tr>\n",
       "      <th>1</th>\n",
       "      <td>Kolkata-Banglore</td>\n",
       "      <td>CCU → IXR → BBI → BLR</td>\n",
       "      <td>[CCU ,  IXR ,  BBI ,  BLR]</td>\n",
       "    </tr>\n",
       "    <tr>\n",
       "      <th>2</th>\n",
       "      <td>New Delhi-Cochin</td>\n",
       "      <td>DEL → LKO → BOM → COK</td>\n",
       "      <td>[DEL ,  LKO ,  BOM ,  COK]</td>\n",
       "    </tr>\n",
       "    <tr>\n",
       "      <th>3</th>\n",
       "      <td>Kolkata-Banglore</td>\n",
       "      <td>CCU → NAG → BLR</td>\n",
       "      <td>[CCU ,  NAG ,  BLR]</td>\n",
       "    </tr>\n",
       "    <tr>\n",
       "      <th>4</th>\n",
       "      <td>Banglore-New Delhi</td>\n",
       "      <td>BLR → NAG → DEL</td>\n",
       "      <td>[BLR ,  NAG ,  DEL]</td>\n",
       "    </tr>\n",
       "    <tr>\n",
       "      <th>6</th>\n",
       "      <td>Banglore-New Delhi</td>\n",
       "      <td>BLR → BOM → DEL</td>\n",
       "      <td>[BLR ,  BOM ,  DEL]</td>\n",
       "    </tr>\n",
       "    <tr>\n",
       "      <th>...</th>\n",
       "      <td>...</td>\n",
       "      <td>...</td>\n",
       "      <td>...</td>\n",
       "    </tr>\n",
       "    <tr>\n",
       "      <th>10671</th>\n",
       "      <td>New Delhi-Cochin</td>\n",
       "      <td>DEL → AMD → BOM → COK</td>\n",
       "      <td>[DEL ,  AMD ,  BOM ,  COK]</td>\n",
       "    </tr>\n",
       "    <tr>\n",
       "      <th>10672</th>\n",
       "      <td>New Delhi-Cochin</td>\n",
       "      <td>DEL → AMD → BOM → COK</td>\n",
       "      <td>[DEL ,  AMD ,  BOM ,  COK]</td>\n",
       "    </tr>\n",
       "    <tr>\n",
       "      <th>10673</th>\n",
       "      <td>Banglore-New Delhi</td>\n",
       "      <td>BLR → BOM → DEL</td>\n",
       "      <td>[BLR ,  BOM ,  DEL]</td>\n",
       "    </tr>\n",
       "    <tr>\n",
       "      <th>10675</th>\n",
       "      <td>New Delhi-Cochin</td>\n",
       "      <td>DEL → BOM → COK</td>\n",
       "      <td>[DEL ,  BOM ,  COK]</td>\n",
       "    </tr>\n",
       "    <tr>\n",
       "      <th>10681</th>\n",
       "      <td>New Delhi-Cochin</td>\n",
       "      <td>DEL → GOI → BOM → COK</td>\n",
       "      <td>[DEL ,  GOI ,  BOM ,  COK]</td>\n",
       "    </tr>\n",
       "  </tbody>\n",
       "</table>\n",
       "<p>7191 rows × 3 columns</p>\n",
       "</div>"
      ],
      "text/plain": [
       "       Source-Destination                  Route                Layover list\n",
       "1        Kolkata-Banglore  CCU → IXR → BBI → BLR  [CCU ,  IXR ,  BBI ,  BLR]\n",
       "2        New Delhi-Cochin  DEL → LKO → BOM → COK  [DEL ,  LKO ,  BOM ,  COK]\n",
       "3        Kolkata-Banglore        CCU → NAG → BLR         [CCU ,  NAG ,  BLR]\n",
       "4      Banglore-New Delhi        BLR → NAG → DEL         [BLR ,  NAG ,  DEL]\n",
       "6      Banglore-New Delhi        BLR → BOM → DEL         [BLR ,  BOM ,  DEL]\n",
       "...                   ...                    ...                         ...\n",
       "10671    New Delhi-Cochin  DEL → AMD → BOM → COK  [DEL ,  AMD ,  BOM ,  COK]\n",
       "10672    New Delhi-Cochin  DEL → AMD → BOM → COK  [DEL ,  AMD ,  BOM ,  COK]\n",
       "10673  Banglore-New Delhi        BLR → BOM → DEL         [BLR ,  BOM ,  DEL]\n",
       "10675    New Delhi-Cochin        DEL → BOM → COK         [DEL ,  BOM ,  COK]\n",
       "10681    New Delhi-Cochin  DEL → GOI → BOM → COK  [DEL ,  GOI ,  BOM ,  COK]\n",
       "\n",
       "[7191 rows x 3 columns]"
      ]
     },
     "execution_count": 291,
     "metadata": {},
     "output_type": "execute_result"
    }
   ],
   "source": [
    "df_tmp['Layover list'] = df_tmp['Route'].str.split(\"→\",expand=False)\n",
    "df_tmp"
   ]
  },
  {
   "cell_type": "code",
   "execution_count": 292,
   "metadata": {},
   "outputs": [],
   "source": [
    "layover_dict = {}\n",
    "for key, l_list in zip(df_tmp['Source-Destination'], df_tmp['Layover list']):\n",
    "    #remove source and destination air ports\n",
    "    new_l_list = l_list [1:-1]\n",
    "    #remove trailing/ preceding spaces\n",
    "    new_l_list = [item.strip() for item in new_l_list]\n",
    "\n",
    "    sub_dict = dict.fromkeys(new_l_list,1)\n",
    "    #print(\"sub_dict : \", sub_dict)\n",
    "\n",
    "    if key not in layover_dict.keys():\n",
    "        #print(\"add main key : \", key)\n",
    "        layover_dict[key] = sub_dict\n",
    "\n",
    "        #for sub_key in sub_dict.keys():\n",
    "        #    sub_dict[sub_key] = 1\n",
    "    else:    \n",
    "        #print(\"main key exists : \", key)\n",
    "        for new_key in sub_dict.keys():\n",
    "            if new_key in layover_dict[key].keys():\n",
    "                #print(\"sub key exists\", layover_dict[key].keys())\n",
    "                layover_dict[key][new_key] += 1\n",
    "            else:\n",
    "                #print(\"sub key not exists\")\n",
    "                layover_dict[key].update({new_key : 1})\n",
    "                #print(layover_dict[key])\n"
   ]
  },
  {
   "cell_type": "code",
   "execution_count": 293,
   "metadata": {},
   "outputs": [],
   "source": [
    "# sum the number of layover flight for each airpot.\n",
    "from collections import defaultdict\n",
    "prev_sums = defaultdict(int)\n",
    "\n",
    "for key, value in layover_dict.items():\n",
    "    for inner_key in value:\n",
    "        value[inner_key] += prev_sums[inner_key]\n",
    "        prev_sums[inner_key] = value[inner_key]"
   ]
  },
  {
   "cell_type": "code",
   "execution_count": 294,
   "metadata": {},
   "outputs": [
    {
     "data": {
      "text/html": [
       "<div>\n",
       "<style scoped>\n",
       "    .dataframe tbody tr th:only-of-type {\n",
       "        vertical-align: middle;\n",
       "    }\n",
       "\n",
       "    .dataframe tbody tr th {\n",
       "        vertical-align: top;\n",
       "    }\n",
       "\n",
       "    .dataframe thead th {\n",
       "        text-align: right;\n",
       "    }\n",
       "</style>\n",
       "<table border=\"1\" class=\"dataframe\">\n",
       "  <thead>\n",
       "    <tr style=\"text-align: right;\">\n",
       "      <th></th>\n",
       "      <th>Airport</th>\n",
       "      <th>Number of layovers</th>\n",
       "    </tr>\n",
       "  </thead>\n",
       "  <tbody>\n",
       "    <tr>\n",
       "      <th>3</th>\n",
       "      <td>BOM</td>\n",
       "      <td>4980</td>\n",
       "    </tr>\n",
       "    <tr>\n",
       "      <th>5</th>\n",
       "      <td>DEL</td>\n",
       "      <td>791</td>\n",
       "    </tr>\n",
       "    <tr>\n",
       "      <th>7</th>\n",
       "      <td>HYD</td>\n",
       "      <td>582</td>\n",
       "    </tr>\n",
       "    <tr>\n",
       "      <th>6</th>\n",
       "      <td>MAA</td>\n",
       "      <td>344</td>\n",
       "    </tr>\n",
       "    <tr>\n",
       "      <th>12</th>\n",
       "      <td>AMD</td>\n",
       "      <td>299</td>\n",
       "    </tr>\n",
       "    <tr>\n",
       "      <th>8</th>\n",
       "      <td>JAI</td>\n",
       "      <td>261</td>\n",
       "    </tr>\n",
       "    <tr>\n",
       "      <th>26</th>\n",
       "      <td>BLR</td>\n",
       "      <td>236</td>\n",
       "    </tr>\n",
       "    <tr>\n",
       "      <th>1</th>\n",
       "      <td>BBI</td>\n",
       "      <td>129</td>\n",
       "    </tr>\n",
       "    <tr>\n",
       "      <th>28</th>\n",
       "      <td>IDR</td>\n",
       "      <td>121</td>\n",
       "    </tr>\n",
       "    <tr>\n",
       "      <th>2</th>\n",
       "      <td>NAG</td>\n",
       "      <td>111</td>\n",
       "    </tr>\n",
       "    <tr>\n",
       "      <th>4</th>\n",
       "      <td>GAU</td>\n",
       "      <td>99</td>\n",
       "    </tr>\n",
       "    <tr>\n",
       "      <th>10</th>\n",
       "      <td>COK</td>\n",
       "      <td>88</td>\n",
       "    </tr>\n",
       "    <tr>\n",
       "      <th>11</th>\n",
       "      <td>GOI</td>\n",
       "      <td>88</td>\n",
       "    </tr>\n",
       "    <tr>\n",
       "      <th>13</th>\n",
       "      <td>PNQ</td>\n",
       "      <td>76</td>\n",
       "    </tr>\n",
       "    <tr>\n",
       "      <th>27</th>\n",
       "      <td>CCU</td>\n",
       "      <td>76</td>\n",
       "    </tr>\n",
       "    <tr>\n",
       "      <th>29</th>\n",
       "      <td>BHO</td>\n",
       "      <td>69</td>\n",
       "    </tr>\n",
       "    <tr>\n",
       "      <th>25</th>\n",
       "      <td>LKO</td>\n",
       "      <td>61</td>\n",
       "    </tr>\n",
       "    <tr>\n",
       "      <th>0</th>\n",
       "      <td>IXR</td>\n",
       "      <td>54</td>\n",
       "    </tr>\n",
       "    <tr>\n",
       "      <th>31</th>\n",
       "      <td>JDH</td>\n",
       "      <td>47</td>\n",
       "    </tr>\n",
       "    <tr>\n",
       "      <th>30</th>\n",
       "      <td>ATQ</td>\n",
       "      <td>40</td>\n",
       "    </tr>\n",
       "    <tr>\n",
       "      <th>32</th>\n",
       "      <td>BDQ</td>\n",
       "      <td>38</td>\n",
       "    </tr>\n",
       "    <tr>\n",
       "      <th>19</th>\n",
       "      <td>VGA</td>\n",
       "      <td>30</td>\n",
       "    </tr>\n",
       "    <tr>\n",
       "      <th>20</th>\n",
       "      <td>TRV</td>\n",
       "      <td>24</td>\n",
       "    </tr>\n",
       "    <tr>\n",
       "      <th>34</th>\n",
       "      <td>UDR</td>\n",
       "      <td>22</td>\n",
       "    </tr>\n",
       "    <tr>\n",
       "      <th>9</th>\n",
       "      <td>IXB</td>\n",
       "      <td>21</td>\n",
       "    </tr>\n",
       "    <tr>\n",
       "      <th>17</th>\n",
       "      <td>RPR</td>\n",
       "      <td>19</td>\n",
       "    </tr>\n",
       "    <tr>\n",
       "      <th>36</th>\n",
       "      <td>IXC</td>\n",
       "      <td>14</td>\n",
       "    </tr>\n",
       "    <tr>\n",
       "      <th>33</th>\n",
       "      <td>IXU</td>\n",
       "      <td>12</td>\n",
       "    </tr>\n",
       "    <tr>\n",
       "      <th>14</th>\n",
       "      <td>VNS</td>\n",
       "      <td>11</td>\n",
       "    </tr>\n",
       "    <tr>\n",
       "      <th>37</th>\n",
       "      <td>GWL</td>\n",
       "      <td>10</td>\n",
       "    </tr>\n",
       "    <tr>\n",
       "      <th>15</th>\n",
       "      <td>PAT</td>\n",
       "      <td>10</td>\n",
       "    </tr>\n",
       "    <tr>\n",
       "      <th>16</th>\n",
       "      <td>KNU</td>\n",
       "      <td>10</td>\n",
       "    </tr>\n",
       "    <tr>\n",
       "      <th>21</th>\n",
       "      <td>HBX</td>\n",
       "      <td>9</td>\n",
       "    </tr>\n",
       "    <tr>\n",
       "      <th>23</th>\n",
       "      <td>IMF</td>\n",
       "      <td>5</td>\n",
       "    </tr>\n",
       "    <tr>\n",
       "      <th>18</th>\n",
       "      <td>VTZ</td>\n",
       "      <td>4</td>\n",
       "    </tr>\n",
       "    <tr>\n",
       "      <th>39</th>\n",
       "      <td>ISK</td>\n",
       "      <td>4</td>\n",
       "    </tr>\n",
       "    <tr>\n",
       "      <th>35</th>\n",
       "      <td>DED</td>\n",
       "      <td>3</td>\n",
       "    </tr>\n",
       "    <tr>\n",
       "      <th>38</th>\n",
       "      <td>STV</td>\n",
       "      <td>2</td>\n",
       "    </tr>\n",
       "    <tr>\n",
       "      <th>24</th>\n",
       "      <td>IXA</td>\n",
       "      <td>1</td>\n",
       "    </tr>\n",
       "    <tr>\n",
       "      <th>22</th>\n",
       "      <td>IXZ</td>\n",
       "      <td>1</td>\n",
       "    </tr>\n",
       "    <tr>\n",
       "      <th>40</th>\n",
       "      <td>JLR</td>\n",
       "      <td>1</td>\n",
       "    </tr>\n",
       "    <tr>\n",
       "      <th>41</th>\n",
       "      <td>NDC</td>\n",
       "      <td>1</td>\n",
       "    </tr>\n",
       "  </tbody>\n",
       "</table>\n",
       "</div>"
      ],
      "text/plain": [
       "   Airport  Number of layovers\n",
       "3      BOM                4980\n",
       "5      DEL                 791\n",
       "7      HYD                 582\n",
       "6      MAA                 344\n",
       "12     AMD                 299\n",
       "8      JAI                 261\n",
       "26     BLR                 236\n",
       "1      BBI                 129\n",
       "28     IDR                 121\n",
       "2      NAG                 111\n",
       "4      GAU                  99\n",
       "10     COK                  88\n",
       "11     GOI                  88\n",
       "13     PNQ                  76\n",
       "27     CCU                  76\n",
       "29     BHO                  69\n",
       "25     LKO                  61\n",
       "0      IXR                  54\n",
       "31     JDH                  47\n",
       "30     ATQ                  40\n",
       "32     BDQ                  38\n",
       "19     VGA                  30\n",
       "20     TRV                  24\n",
       "34     UDR                  22\n",
       "9      IXB                  21\n",
       "17     RPR                  19\n",
       "36     IXC                  14\n",
       "33     IXU                  12\n",
       "14     VNS                  11\n",
       "37     GWL                  10\n",
       "15     PAT                  10\n",
       "16     KNU                  10\n",
       "21     HBX                   9\n",
       "23     IMF                   5\n",
       "18     VTZ                   4\n",
       "39     ISK                   4\n",
       "35     DED                   3\n",
       "38     STV                   2\n",
       "24     IXA                   1\n",
       "22     IXZ                   1\n",
       "40     JLR                   1\n",
       "41     NDC                   1"
      ]
     },
     "execution_count": 294,
     "metadata": {},
     "output_type": "execute_result"
    }
   ],
   "source": [
    "df_layovers = pd.DataFrame.from_dict(prev_sums, orient='index').reset_index()\n",
    "df_layovers.columns = ['Airport','Number of layovers']\n",
    "df_layovers.sort_values(by='Number of layovers', ascending=False)"
   ]
  },
  {
   "cell_type": "markdown",
   "metadata": {},
   "source": [
    "We can see that BOM airport has the highest number of layovers considering all the destinations. If we consider destination wise then we can obtain the below information.\n",
    "- Kolkata-Banglore -> BOM (1101)\n",
    "- Delhi-Cochin -> BOM (4532)\n",
    "- Banglore-New Delhi -> BOM (4980)\n",
    "- Mumbai-Hyderabad -> DEL (791)"
   ]
  },
  {
   "cell_type": "code",
   "execution_count": 298,
   "metadata": {},
   "outputs": [],
   "source": [
    "\n",
    "#layover_dict\n"
   ]
  },
  {
   "cell_type": "code",
   "execution_count": 319,
   "metadata": {},
   "outputs": [
    {
     "data": {
      "text/plain": [
       "Route\n",
       "CCU → BOM → BLR          930\n",
       "DEL → BOM → COK          875\n",
       "BLR → BOM → DEL          385\n",
       "BLR → DEL                382\n",
       "CCU → DEL → BLR          300\n",
       "BOM → HYD                207\n",
       "DEL → JAI → BOM → COK    207\n",
       "DEL → AMD → BOM → COK    141\n",
       "DEL → IDR → BOM → COK     86\n",
       "DEL → NAG → BOM → COK     61\n",
       "Name: Airline, dtype: int64"
      ]
     },
     "execution_count": 319,
     "metadata": {},
     "output_type": "execute_result"
    }
   ],
   "source": [
    "# Q11: What are the top 10 routes for Jet Airways?\n",
    "train_data[train_data['Airline']=='Jet Airways'].groupby('Route').count().iloc[:,0].sort_values(ascending=False)[0:10]"
   ]
  },
  {
   "cell_type": "markdown",
   "metadata": {},
   "source": [
    "### Bivariate analysis"
   ]
  },
  {
   "cell_type": "code",
   "execution_count": 326,
   "metadata": {},
   "outputs": [
    {
     "data": {
      "text/plain": [
       "<seaborn.axisgrid.FacetGrid at 0x17cdc7a00>"
      ]
     },
     "execution_count": 326,
     "metadata": {},
     "output_type": "execute_result"
    },
    {
     "data": {
      "image/png": "[encoded data removed]",
      "text/plain": [
       "<Figure size 360x360 with 1 Axes>"
      ]
     },
     "metadata": {},
     "output_type": "display_data"
    }
   ],
   "source": [
    "# Realtionship between price vs duration\n",
    "sns.set(rc = {'figure.figsize':(15,8)})\n",
    "sns.lmplot(data=train_data, x='Duration_in_mins', y='Price')"
   ]
  },
  {
   "cell_type": "code",
   "execution_count": 312,
   "metadata": {},
   "outputs": [
    {
     "data": {
      "text/plain": [
       "0.506479761562851"
      ]
     },
     "execution_count": 312,
     "metadata": {},
     "output_type": "execute_result"
    }
   ],
   "source": [
    "np.corrcoef(train_data['Duration_in_mins'],train_data['Price'])[0][1]"
   ]
  },
  {
   "cell_type": "markdown",
   "metadata": {},
   "source": [
    "From the above graph and the computed correlation co-efficient values we can see that there is a positive correlation between the flight time and price."
   ]
  },
  {
   "cell_type": "code",
   "execution_count": 335,
   "metadata": {},
   "outputs": [
    {
     "data": {
      "text/plain": [
       "<AxesSubplot:xlabel='Total_Stops', ylabel='Duration_in_mins'>"
      ]
     },
     "execution_count": 335,
     "metadata": {},
     "output_type": "execute_result"
    },
    {
     "data": {
      "image/png": "[encoded data removed]",
      "text/plain": [
       "<Figure size 720x432 with 1 Axes>"
      ]
     },
     "metadata": {},
     "output_type": "display_data"
    }
   ],
   "source": [
    "# Realtionship between number of stops vs duration\n",
    "sns.set(rc = {'figure.figsize':(10,6)})\n",
    "sns.boxplot(data=train_data, x='Total_Stops', y='Duration_in_mins')"
   ]
  },
  {
   "cell_type": "markdown",
   "metadata": {},
   "source": [
    "We can clearly see that longer flights have more lay overs."
   ]
  },
  {
   "cell_type": "code",
   "execution_count": 328,
   "metadata": {},
   "outputs": [
    {
     "data": {
      "image/png": "[encoded data removed]",
      "text/plain": [
       "<Figure size 1080x432 with 1 Axes>"
      ]
     },
     "metadata": {},
     "output_type": "display_data"
    }
   ],
   "source": [
    "# Realtionship between price vs airline\n",
    "sns.set(rc = {'figure.figsize':(15,6)})\n",
    "sns.violinplot(data=train_data,x='Airline',y='Price')\n",
    "a=plt.xticks(rotation=90)"
   ]
  }
 ],
 "metadata": {
  "interpreter": {
   "hash": "2317b65cacac67006821ea511084edd6e9b76a4d8e935823f49c7dae49104158"
  },
  "kernelspec": {
   "display_name": "Python 3.9.10 ('.venv': venv)",
   "language": "python",
   "name": "python3"
  },
  "language_info": {
   "codemirror_mode": {
    "name": "ipython",
    "version": 3
   },
   "file_extension": ".py",
   "mimetype": "text/x-python",
   "name": "python",
   "nbconvert_exporter": "python",
   "pygments_lexer": "ipython3",
   "version": "3.9.10"
  },
  "orig_nbformat": 4
 },
 "nbformat": 4,
 "nbformat_minor": 2
}
